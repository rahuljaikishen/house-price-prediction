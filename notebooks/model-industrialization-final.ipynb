{
 "cells": [
  {
   "cell_type": "markdown",
   "id": "3d7d6058",
   "metadata": {},
   "source": [
    "## House Prices Prediction\n",
    "\n",
    "<p>This notebook implements the house prices prediction competetion found on <a href=\"https://www.kaggle.com/competitions/house-prices-advanced-regression-techniques/overview\">kaggle</a></p>\n",
    "\n",
    "<h5>Datasets used - </h5>\n",
    "<ul style=\"margin-botton:20px\">\n",
    "    <li>train.csv - to train and test the regression model</li>\n",
    "    <li>test.csv - to infer regression model</li>\n",
    "</ul>"
   ]
  },
  {
   "cell_type": "code",
   "execution_count": 1,
   "id": "6ac0f8b1",
   "metadata": {
    "ExecuteTime": {
     "end_time": "2022-05-01T21:25:57.333635Z",
     "start_time": "2022-05-01T21:25:57.275544Z"
    }
   },
   "outputs": [],
   "source": [
    "%load_ext autoreload\n",
    "%autoreload 2"
   ]
  },
  {
   "cell_type": "code",
   "execution_count": 2,
   "id": "b36c8c6b",
   "metadata": {
    "ExecuteTime": {
     "end_time": "2022-05-01T21:25:57.366661Z",
     "start_time": "2022-05-01T21:25:57.336817Z"
    }
   },
   "outputs": [],
   "source": [
    "import sys\n",
    "sys.path.append('..')"
   ]
  },
  {
   "cell_type": "markdown",
   "id": "870960b0",
   "metadata": {},
   "source": [
    "### Model Building"
   ]
  },
  {
   "cell_type": "code",
   "execution_count": 3,
   "id": "7c60d4ba",
   "metadata": {
    "ExecuteTime": {
     "end_time": "2022-05-01T21:25:59.168701Z",
     "start_time": "2022-05-01T21:25:57.369084Z"
    }
   },
   "outputs": [
    {
     "name": "stdout",
     "output_type": "stream",
     "text": [
      "{'rsme': 0.28}\n"
     ]
    }
   ],
   "source": [
    "import pandas as pd\n",
    "from house_prices.train import build_model\n",
    "\n",
    "training_data_df = pd.read_csv('../data/train.csv')\n",
    "model_performance_dict = build_model(training_data_df)\n",
    "print(model_performance_dict)"
   ]
  },
  {
   "cell_type": "markdown",
   "id": "4781631d",
   "metadata": {},
   "source": [
    "### Model Inference"
   ]
  },
  {
   "cell_type": "code",
   "execution_count": 4,
   "id": "6cccfa34",
   "metadata": {
    "ExecuteTime": {
     "end_time": "2022-05-01T21:25:59.316336Z",
     "start_time": "2022-05-01T21:25:59.173063Z"
    }
   },
   "outputs": [
    {
     "data": {
      "text/plain": [
       "array([[122027.0400057 ],\n",
       "       [165764.86844561],\n",
       "       [190327.56121512],\n",
       "       ...,\n",
       "       [178840.13126803],\n",
       "       [107045.45330138],\n",
       "       [246557.32127283]])"
      ]
     },
     "execution_count": 4,
     "metadata": {},
     "output_type": "execute_result"
    }
   ],
   "source": [
    "import pandas as pd\n",
    "from house_prices.inference import make_predictions\n",
    "\n",
    "user_data_df = pd.read_csv('../data/test.csv')\n",
    "predictions = make_predictions(user_data_df)\n",
    "predictions"
   ]
  },
  {
   "cell_type": "code",
   "execution_count": null,
   "id": "c3566381",
   "metadata": {},
   "outputs": [],
   "source": []
  }
 ],
 "metadata": {
  "kernelspec": {
   "display_name": "Python 3 (ipykernel)",
   "language": "python",
   "name": "python3"
  },
  "language_info": {
   "codemirror_mode": {
    "name": "ipython",
    "version": 3
   },
   "file_extension": ".py",
   "mimetype": "text/x-python",
   "name": "python",
   "nbconvert_exporter": "python",
   "pygments_lexer": "ipython3",
   "version": "3.9.7"
  }
 },
 "nbformat": 4,
 "nbformat_minor": 5
}
